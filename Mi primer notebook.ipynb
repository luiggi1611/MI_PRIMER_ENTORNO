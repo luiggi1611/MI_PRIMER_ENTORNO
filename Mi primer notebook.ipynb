{
 "cells": [
  {
   "cell_type": "markdown",
   "id": "d5e683be",
   "metadata": {},
   "source": [
    "# Mi primer Notebook\n",
    "\n",
    "autor : Luiggi Silva\n",
    "\n",
    "* Un elemento en una lista no ordenada\n",
    "* Otro elemento en una lista\n",
    "\n",
    "1. Elemento en una lista enumerada u ordenada.\n",
    "2. Otro elemento"
   ]
  },
  {
   "cell_type": "code",
   "execution_count": 3,
   "id": "7602a5ab",
   "metadata": {},
   "outputs": [
    {
     "name": "stdout",
     "output_type": "stream",
     "text": [
      "Hello World\n"
     ]
    }
   ],
   "source": [
    "print(\"Hello World\")"
   ]
  },
  {
   "cell_type": "code",
   "execution_count": null,
   "id": "ca3c1edd",
   "metadata": {},
   "outputs": [],
   "source": []
  }
 ],
 "metadata": {
  "kernelspec": {
   "display_name": "Python 3 (ipykernel)",
   "language": "python",
   "name": "python3"
  },
  "language_info": {
   "codemirror_mode": {
    "name": "ipython",
    "version": 3
   },
   "file_extension": ".py",
   "mimetype": "text/x-python",
   "name": "python",
   "nbconvert_exporter": "python",
   "pygments_lexer": "ipython3",
   "version": "3.8.10"
  }
 },
 "nbformat": 4,
 "nbformat_minor": 5
}
